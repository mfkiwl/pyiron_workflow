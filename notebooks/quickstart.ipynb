{
 "cells": [
  {
   "cell_type": "markdown",
   "id": "96fdb45b-624c-4301-a0cf-44874b0693b1",
   "metadata": {},
   "source": [
    "# Pyiron workflows: quickstart\n",
    "\n",
    "You can start converting python functions to `pyiron_workflow` nodes by wrapping them with decorators accessible from our single-point-of-entry, the `Workflow` class:"
   ]
  },
  {
   "cell_type": "code",
   "execution_count": 1,
   "id": "4655322e-5755-455e-aff7-30067a999b7d",
   "metadata": {},
   "outputs": [],
   "source": [
    "from pyiron_workflow import Workflow"
   ]
  },
  {
   "cell_type": "markdown",
   "id": "8d6274b4-880d-40d7-9ce9-63d05c4a60e2",
   "metadata": {},
   "source": [
    "## From function to node\n",
    "\n",
    "Let's start with a super simple function that only returns a single thing"
   ]
  },
  {
   "cell_type": "code",
   "execution_count": 2,
   "id": "4022f7b6-1192-454f-bc15-98d8242fedaf",
   "metadata": {},
   "outputs": [],
   "source": [
    "@Workflow.wrap_as.single_value_node()\n",
    "def add_one(x):\n",
    "    y = x + 1\n",
    "    return y\n",
    "\n",
    "node = add_one()"
   ]
  },
  {
   "cell_type": "markdown",
   "id": "7c04df9a-856d-4015-87f5-b8ce3b0d87df",
   "metadata": {},
   "source": [
    "This node object can be run just like the function it wraps"
   ]
  },
  {
   "cell_type": "code",
   "execution_count": 3,
   "id": "4520136f-d8a7-4721-9eb3-52b271cce33f",
   "metadata": {},
   "outputs": [
    {
     "data": {
      "text/plain": [
       "43"
      ]
     },
     "execution_count": 3,
     "metadata": {},
     "output_type": "execute_result"
    }
   ],
   "source": [
    "node(42)"
   ]
  },
  {
   "cell_type": "markdown",
   "id": "d5e804d6-93ab-43a0-a330-31b76b719a18",
   "metadata": {},
   "source": [
    "But is also a class instance with input and output channels (note that here the output value takes its name based on what came after the `return` statement)"
   ]
  },
  {
   "cell_type": "code",
   "execution_count": 4,
   "id": "e3577e45-f693-4ef4-80ed-743d2a8e0557",
   "metadata": {},
   "outputs": [
    {
     "data": {
      "text/plain": [
       "1"
      ]
     },
     "execution_count": 4,
     "metadata": {},
     "output_type": "execute_result"
    }
   ],
   "source": [
    "node.inputs.x = 0\n",
    "node.run()\n",
    "node.outputs.y.value"
   ]
  },
  {
   "cell_type": "markdown",
   "id": "4c4969d5-dd73-413d-af69-8f568b890247",
   "metadata": {},
   "source": [
    "So other than being delayed, these nodes behave a _lot_ like the regular python functions that wrap them:"
   ]
  },
  {
   "cell_type": "code",
   "execution_count": 5,
   "id": "768e99e8-901e-4f2b-9a80-4efe25d59e67",
   "metadata": {},
   "outputs": [
    {
     "name": "stderr",
     "output_type": "stream",
     "text": [
      "/Users/huber/work/pyiron/pyiron_workflow/pyiron_workflow/channels.py:158: UserWarning: The channel run was not connected to ran, andthus could not disconnect from it.\n",
      "  warn(\n"
     ]
    },
    {
     "data": {
      "text/plain": [
       "5"
      ]
     },
     "execution_count": 5,
     "metadata": {},
     "output_type": "execute_result"
    }
   ],
   "source": [
    "calculation = add_one(add_one(add_one(2)))\n",
    "calculation()"
   ]
  },
  {
   "cell_type": "markdown",
   "id": "bfbdc0bb-fba0-45d9-b1bf-c0dfa07871c2",
   "metadata": {},
   "source": [
    "But they are actually nodes, and what we saw above is just syntactic sugar for building a _graph_ connecting the inputs and outputs of the nodes:"
   ]
  },
  {
   "cell_type": "code",
   "execution_count": 6,
   "id": "f1f7c7e2-0300-4be7-afd7-4a490bac06f9",
   "metadata": {},
   "outputs": [
    {
     "data": {
      "text/plain": [
       "3"
      ]
     },
     "execution_count": 6,
     "metadata": {},
     "output_type": "execute_result"
    }
   ],
   "source": [
    "n1 = add_one()\n",
    "n2 = add_one()\n",
    "n3 = add_one()\n",
    "\n",
    "n2.inputs.x = n1.outputs.y\n",
    "n3.inputs.x = n2.outputs.y\n",
    "\n",
    "n1.inputs.x = 0\n",
    "n3()"
   ]
  },
  {
   "cell_type": "markdown",
   "id": "dfa3db51-31d7-43c8-820a-6e5f3525837e",
   "metadata": {},
   "source": [
    "## Putting it together in a workflow\n",
    "\n",
    "We can work with nodes all by themselves, but since the whole point is to connect them together to make a computation graph, we can get extra tools by intentionally making these children of a `Workflow` node.\n",
    "\n",
    "The `Workflow` class not only gives us access to the decorators for defining new nodes, but also lets us register modules of existing nodes and use them. Let's put together a workflow that uses both an existing node from a package, and a `Function` node that is more general than we used above in that it allows us to have multiple return values. This function node will also exploit our ability to name outputs and give type hints:"
   ]
  },
  {
   "cell_type": "code",
   "execution_count": 7,
   "id": "4c80aee3-a8e4-444c-9260-3078f8d617a4",
   "metadata": {},
   "outputs": [
    {
     "data": {
      "image/svg+xml": [
       "<?xml version=\"1.0\" encoding=\"UTF-8\" standalone=\"no\"?>\n",
       "<!DOCTYPE svg PUBLIC \"-//W3C//DTD SVG 1.1//EN\"\n",
       " \"http://www.w3.org/Graphics/SVG/1.1/DTD/svg11.dtd\">\n",
       "<!-- Generated by graphviz version 8.0.5 (0)\n",
       " -->\n",
       "<!-- Title: clustermy_workflow Pages: 1 -->\n",
       "<svg width=\"729pt\" height=\"304pt\"\n",
       " viewBox=\"0.00 0.00 728.94 304.25\" xmlns=\"http://www.w3.org/2000/svg\" xmlns:xlink=\"http://www.w3.org/1999/xlink\">\n",
       "<g id=\"graph0\" class=\"graph\" transform=\"scale(1 1) rotate(0) translate(4 300.25)\">\n",
       "<title>clustermy_workflow</title>\n",
       "<polygon fill=\"white\" stroke=\"none\" points=\"-4,4 -4,-300.25 724.94,-300.25 724.94,4 -4,4\"/>\n",
       "<text text-anchor=\"middle\" x=\"360.47\" y=\"-4.95\" font-family=\"Times,serif\" font-size=\"14.00\">my_workflow: Workflow</text>\n",
       "<g id=\"clust1\" class=\"cluster\">\n",
       "<title>clustermy_workflowInputs</title>\n",
       "<defs>\n",
       "<linearGradient id=\"clust1_l_0\" gradientUnits=\"userSpaceOnUse\" x1=\"8\" y1=\"-94.25\" x2=\"139.76\" y2=\"-94.25\" >\n",
       "<stop offset=\"0\" style=\"stop-color:#7f7f7f;stop-opacity:1.;\"/>\n",
       "<stop offset=\"1\" style=\"stop-color:#d9d9d9;stop-opacity:1.;\"/>\n",
       "</linearGradient>\n",
       "</defs>\n",
       "<polygon fill=\"url(#clust1_l_0)\" stroke=\"black\" points=\"8,-30.25 8,-158.25 139.76,-158.25 139.76,-30.25 8,-30.25\"/>\n",
       "<text text-anchor=\"middle\" x=\"73.88\" y=\"-140.95\" font-family=\"Times,serif\" font-size=\"14.00\">Inputs</text>\n",
       "</g>\n",
       "<g id=\"clust2\" class=\"cluster\">\n",
       "<title>clustermy_workflowOutputs</title>\n",
       "<defs>\n",
       "<linearGradient id=\"clust2_l_1\" gradientUnits=\"userSpaceOnUse\" x1=\"712.94\" y1=\"-120.25\" x2=\"614.58\" y2=\"-120.25\" >\n",
       "<stop offset=\"0\" style=\"stop-color:#7f7f7f;stop-opacity:1.;\"/>\n",
       "<stop offset=\"1\" style=\"stop-color:#d9d9d9;stop-opacity:1.;\"/>\n",
       "</linearGradient>\n",
       "</defs>\n",
       "<polygon fill=\"url(#clust2_l_1)\" stroke=\"black\" points=\"614.58,-56.25 614.58,-184.25 712.94,-184.25 712.94,-56.25 614.58,-56.25\"/>\n",
       "<text text-anchor=\"middle\" x=\"663.76\" y=\"-166.95\" font-family=\"Times,serif\" font-size=\"14.00\">Outputs</text>\n",
       "</g>\n",
       "<g id=\"clust3\" class=\"cluster\">\n",
       "<title>clustermy_workflowarrays</title>\n",
       "<defs>\n",
       "<linearGradient id=\"clust3_l_2\" gradientUnits=\"userSpaceOnUse\" x1=\"271.46\" y1=\"-68.25\" x2=\"271.46\" y2=\"-288.25\" >\n",
       "<stop offset=\"0\" style=\"stop-color:#2ca02c;stop-opacity:1.;\"/>\n",
       "<stop offset=\"1\" style=\"stop-color:#c0e2c0;stop-opacity:1.;\"/>\n",
       "</linearGradient>\n",
       "</defs>\n",
       "<polygon fill=\"url(#clust3_l_2)\" stroke=\"black\" points=\"151.76,-68.25 151.76,-288.25 391.16,-288.25 391.16,-68.25 151.76,-68.25\"/>\n",
       "<text text-anchor=\"middle\" x=\"271.46\" y=\"-270.95\" font-family=\"Times,serif\" font-size=\"14.00\">arrays: SquareRange</text>\n",
       "</g>\n",
       "<g id=\"clust4\" class=\"cluster\">\n",
       "<title>clustermy_workflowarraysInputs</title>\n",
       "<defs>\n",
       "<linearGradient id=\"clust4_l_3\" gradientUnits=\"userSpaceOnUse\" x1=\"159.76\" y1=\"-174.25\" x2=\"232.36\" y2=\"-174.25\" >\n",
       "<stop offset=\"0\" style=\"stop-color:#7f7f7f;stop-opacity:1.;\"/>\n",
       "<stop offset=\"1\" style=\"stop-color:#d9d9d9;stop-opacity:1.;\"/>\n",
       "</linearGradient>\n",
       "</defs>\n",
       "<polygon fill=\"url(#clust4_l_3)\" stroke=\"black\" points=\"159.76,-110.25 159.76,-238.25 232.36,-238.25 232.36,-110.25 159.76,-110.25\"/>\n",
       "<text text-anchor=\"middle\" x=\"196.06\" y=\"-220.95\" font-family=\"Times,serif\" font-size=\"14.00\">Inputs</text>\n",
       "</g>\n",
       "<g id=\"clust5\" class=\"cluster\">\n",
       "<title>clustermy_workflowarraysOutputs</title>\n",
       "<defs>\n",
       "<linearGradient id=\"clust5_l_4\" gradientUnits=\"userSpaceOnUse\" x1=\"383.16\" y1=\"-167.25\" x2=\"252.36\" y2=\"-167.25\" >\n",
       "<stop offset=\"0\" style=\"stop-color:#7f7f7f;stop-opacity:1.;\"/>\n",
       "<stop offset=\"1\" style=\"stop-color:#d9d9d9;stop-opacity:1.;\"/>\n",
       "</linearGradient>\n",
       "</defs>\n",
       "<polygon fill=\"url(#clust5_l_4)\" stroke=\"black\" points=\"252.36,-76.25 252.36,-258.25 383.16,-258.25 383.16,-76.25 252.36,-76.25\"/>\n",
       "<text text-anchor=\"middle\" x=\"317.76\" y=\"-240.95\" font-family=\"Times,serif\" font-size=\"14.00\">Outputs</text>\n",
       "</g>\n",
       "<g id=\"clust6\" class=\"cluster\">\n",
       "<title>clustermy_workflowplot</title>\n",
       "<defs>\n",
       "<linearGradient id=\"clust6_l_5\" gradientUnits=\"userSpaceOnUse\" x1=\"500.87\" y1=\"-68.25\" x2=\"500.87\" y2=\"-288.25\" >\n",
       "<stop offset=\"0\" style=\"stop-color:#17becf;stop-opacity:1.;\"/>\n",
       "<stop offset=\"1\" style=\"stop-color:#b9ecf1;stop-opacity:1.;\"/>\n",
       "</linearGradient>\n",
       "</defs>\n",
       "<polygon fill=\"url(#clust6_l_5)\" stroke=\"black\" points=\"399.16,-68.25 399.16,-288.25 602.58,-288.25 602.58,-68.25 399.16,-68.25\"/>\n",
       "<text text-anchor=\"middle\" x=\"500.87\" y=\"-270.95\" font-family=\"Times,serif\" font-size=\"14.00\">plot: Scatter</text>\n",
       "</g>\n",
       "<g id=\"clust7\" class=\"cluster\">\n",
       "<title>clustermy_workflowplotInputs</title>\n",
       "<defs>\n",
       "<linearGradient id=\"clust7_l_6\" gradientUnits=\"userSpaceOnUse\" x1=\"407.16\" y1=\"-167.25\" x2=\"504.58\" y2=\"-167.25\" >\n",
       "<stop offset=\"0\" style=\"stop-color:#7f7f7f;stop-opacity:1.;\"/>\n",
       "<stop offset=\"1\" style=\"stop-color:#d9d9d9;stop-opacity:1.;\"/>\n",
       "</linearGradient>\n",
       "</defs>\n",
       "<polygon fill=\"url(#clust7_l_6)\" stroke=\"black\" points=\"407.16,-76.25 407.16,-258.25 504.58,-258.25 504.58,-76.25 407.16,-76.25\"/>\n",
       "<text text-anchor=\"middle\" x=\"455.87\" y=\"-240.95\" font-family=\"Times,serif\" font-size=\"14.00\">Inputs</text>\n",
       "</g>\n",
       "<g id=\"clust8\" class=\"cluster\">\n",
       "<title>clustermy_workflowplotOutputs</title>\n",
       "<defs>\n",
       "<linearGradient id=\"clust8_l_7\" gradientUnits=\"userSpaceOnUse\" x1=\"594.58\" y1=\"-187.25\" x2=\"524.58\" y2=\"-187.25\" >\n",
       "<stop offset=\"0\" style=\"stop-color:#7f7f7f;stop-opacity:1.;\"/>\n",
       "<stop offset=\"1\" style=\"stop-color:#d9d9d9;stop-opacity:1.;\"/>\n",
       "</linearGradient>\n",
       "</defs>\n",
       "<polygon fill=\"url(#clust8_l_7)\" stroke=\"black\" points=\"524.58,-123.25 524.58,-251.25 594.58,-251.25 594.58,-123.25 524.58,-123.25\"/>\n",
       "<text text-anchor=\"middle\" x=\"559.58\" y=\"-233.95\" font-family=\"Times,serif\" font-size=\"14.00\">Outputs</text>\n",
       "</g>\n",
       "<!-- clustermy_workflowInputsrun -->\n",
       "<g id=\"node1\" class=\"node\">\n",
       "<title>clustermy_workflowInputsrun</title>\n",
       "<polygon fill=\"#1f77b4\" stroke=\"#1f77b4\" points=\"88.88,-68.25 46.88,-68.25 46.88,-44.25 88.88,-44.25 100.88,-56.25 88.88,-68.25\"/>\n",
       "<text text-anchor=\"middle\" x=\"73.88\" y=\"-50.08\" font-family=\"Times,serif\" font-size=\"14.00\">run</text>\n",
       "</g>\n",
       "<!-- clustermy_workflowOutputsran -->\n",
       "<g id=\"node3\" class=\"node\">\n",
       "<title>clustermy_workflowOutputsran</title>\n",
       "<polygon fill=\"#1f77b4\" stroke=\"#1f77b4\" points=\"678.76,-94.25 636.76,-94.25 636.76,-70.25 678.76,-70.25 690.76,-82.25 678.76,-94.25\"/>\n",
       "<text text-anchor=\"middle\" x=\"663.76\" y=\"-76.08\" font-family=\"Times,serif\" font-size=\"14.00\">ran</text>\n",
       "</g>\n",
       "<!-- clustermy_workflowInputsrun&#45;&gt;clustermy_workflowOutputsran -->\n",
       "<!-- clustermy_workflowInputsarrays__x -->\n",
       "<g id=\"node2\" class=\"node\">\n",
       "<title>clustermy_workflowInputsarrays__x</title>\n",
       "<ellipse fill=\"#ff7f0e\" stroke=\"#ff7f0e\" cx=\"73.88\" cy=\"-110.25\" rx=\"57.88\" ry=\"18\"/>\n",
       "<text text-anchor=\"middle\" x=\"73.88\" y=\"-104.08\" font-family=\"Times,serif\" font-size=\"14.00\">arrays__x: int</text>\n",
       "</g>\n",
       "<!-- clustermy_workflowarraysInputsx -->\n",
       "<g id=\"node6\" class=\"node\">\n",
       "<title>clustermy_workflowarraysInputsx</title>\n",
       "<ellipse fill=\"#ff7f0e\" stroke=\"#ff7f0e\" cx=\"196.06\" cy=\"-136.25\" rx=\"28.3\" ry=\"18\"/>\n",
       "<text text-anchor=\"middle\" x=\"196.06\" y=\"-130.07\" font-family=\"Times,serif\" font-size=\"14.00\">x: int</text>\n",
       "</g>\n",
       "<!-- clustermy_workflowInputsarrays__x&#45;&gt;clustermy_workflowarraysInputsx -->\n",
       "<g id=\"edge6\" class=\"edge\">\n",
       "<title>clustermy_workflowInputsarrays__x&#45;&gt;clustermy_workflowarraysInputsx</title>\n",
       "<path fill=\"none\" stroke=\"#ff7f0e\" d=\"M122.38,-120.53C128.39,-121.83 134.59,-123.17 140.7,-124.49\"/>\n",
       "<path fill=\"none\" stroke=\"#ff7f0e\" d=\"M140.7,-124.49C146.81,-125.81 152.84,-127.12 158.54,-128.35\"/>\n",
       "<polygon fill=\"#ff7f0e\" stroke=\"#ff7f0e\" points=\"157.47,-131.92 167.99,-130.61 158.95,-125.07 157.47,-131.92\"/>\n",
       "</g>\n",
       "<!-- clustermy_workflowOutputsplot__fig -->\n",
       "<g id=\"node4\" class=\"node\">\n",
       "<title>clustermy_workflowOutputsplot__fig</title>\n",
       "<ellipse fill=\"#ff7f0e\" stroke=\"#ff7f0e\" cx=\"663.76\" cy=\"-136.25\" rx=\"41.18\" ry=\"18\"/>\n",
       "<text text-anchor=\"middle\" x=\"663.76\" y=\"-130.07\" font-family=\"Times,serif\" font-size=\"14.00\">plot__fig</text>\n",
       "</g>\n",
       "<!-- clustermy_workflowarraysInputsrun -->\n",
       "<g id=\"node5\" class=\"node\">\n",
       "<title>clustermy_workflowarraysInputsrun</title>\n",
       "<polygon fill=\"#1f77b4\" stroke=\"#1f77b4\" points=\"211.06,-202.25 169.06,-202.25 169.06,-178.25 211.06,-178.25 223.06,-190.25 211.06,-202.25\"/>\n",
       "<text text-anchor=\"middle\" x=\"196.06\" y=\"-184.07\" font-family=\"Times,serif\" font-size=\"14.00\">run</text>\n",
       "</g>\n",
       "<!-- clustermy_workflowarraysOutputsran -->\n",
       "<g id=\"node7\" class=\"node\">\n",
       "<title>clustermy_workflowarraysOutputsran</title>\n",
       "<polygon fill=\"#1f77b4\" stroke=\"#1f77b4\" points=\"332.76,-222.25 290.76,-222.25 290.76,-198.25 332.76,-198.25 344.76,-210.25 332.76,-222.25\"/>\n",
       "<text text-anchor=\"middle\" x=\"317.76\" y=\"-204.07\" font-family=\"Times,serif\" font-size=\"14.00\">ran</text>\n",
       "</g>\n",
       "<!-- clustermy_workflowarraysInputsrun&#45;&gt;clustermy_workflowarraysOutputsran -->\n",
       "<!-- clustermy_workflowarraysOutputsx -->\n",
       "<g id=\"node8\" class=\"node\">\n",
       "<title>clustermy_workflowarraysOutputsx</title>\n",
       "<ellipse fill=\"#ff7f0e\" stroke=\"#ff7f0e\" cx=\"317.76\" cy=\"-156.25\" rx=\"45.48\" ry=\"18\"/>\n",
       "<text text-anchor=\"middle\" x=\"317.76\" y=\"-150.07\" font-family=\"Times,serif\" font-size=\"14.00\">x: ndarray</text>\n",
       "</g>\n",
       "<!-- clustermy_workflowplotInputsx -->\n",
       "<g id=\"node11\" class=\"node\">\n",
       "<title>clustermy_workflowplotInputsx</title>\n",
       "<ellipse fill=\"#ff7f0e\" stroke=\"#ff7f0e\" cx=\"455.87\" cy=\"-156.25\" rx=\"40.71\" ry=\"18\"/>\n",
       "<text text-anchor=\"middle\" x=\"455.87\" y=\"-150.07\" font-family=\"Times,serif\" font-size=\"14.00\">x: Union</text>\n",
       "</g>\n",
       "<!-- clustermy_workflowarraysOutputsx&#45;&gt;clustermy_workflowplotInputsx -->\n",
       "<g id=\"edge4\" class=\"edge\">\n",
       "<title>clustermy_workflowarraysOutputsx&#45;&gt;clustermy_workflowplotInputsx</title>\n",
       "<path fill=\"none\" stroke=\"#ff7f0e\" d=\"M363.71,-156.25C370.18,-156.25 376.97,-156.25 383.8,-156.25\"/>\n",
       "<path fill=\"none\" stroke=\"#ff7f0e\" d=\"M383.8,-156.25C390.63,-156.25 397.5,-156.25 404.13,-156.25\"/>\n",
       "<polygon fill=\"#ff7f0e\" stroke=\"#ff7f0e\" points=\"404.01,-159.75 414.01,-156.25 404.01,-152.75 404.01,-159.75\"/>\n",
       "</g>\n",
       "<!-- clustermy_workflowarraysOutputsx_sq -->\n",
       "<g id=\"node9\" class=\"node\">\n",
       "<title>clustermy_workflowarraysOutputsx_sq</title>\n",
       "<ellipse fill=\"#ff7f0e\" stroke=\"#ff7f0e\" cx=\"317.76\" cy=\"-102.25\" rx=\"57.4\" ry=\"18\"/>\n",
       "<text text-anchor=\"middle\" x=\"317.76\" y=\"-96.08\" font-family=\"Times,serif\" font-size=\"14.00\">x_sq: ndarray</text>\n",
       "</g>\n",
       "<!-- clustermy_workflowplotInputsy -->\n",
       "<g id=\"node12\" class=\"node\">\n",
       "<title>clustermy_workflowplotInputsy</title>\n",
       "<ellipse fill=\"#ff7f0e\" stroke=\"#ff7f0e\" cx=\"455.87\" cy=\"-102.25\" rx=\"40.71\" ry=\"18\"/>\n",
       "<text text-anchor=\"middle\" x=\"455.87\" y=\"-96.08\" font-family=\"Times,serif\" font-size=\"14.00\">y: Union</text>\n",
       "</g>\n",
       "<!-- clustermy_workflowarraysOutputsx_sq&#45;&gt;clustermy_workflowplotInputsy -->\n",
       "<g id=\"edge5\" class=\"edge\">\n",
       "<title>clustermy_workflowarraysOutputsx_sq&#45;&gt;clustermy_workflowplotInputsy</title>\n",
       "<path fill=\"none\" stroke=\"#ff7f0e\" d=\"M375.3,-102.25C380.08,-102.25 384.93,-102.25 389.77,-102.25\"/>\n",
       "<path fill=\"none\" stroke=\"#ff7f0e\" d=\"M389.77,-102.25C394.6,-102.25 399.42,-102.25 404.12,-102.25\"/>\n",
       "<polygon fill=\"#ff7f0e\" stroke=\"#ff7f0e\" points=\"403.88,-105.75 413.88,-102.25 403.88,-98.75 403.88,-105.75\"/>\n",
       "</g>\n",
       "<!-- clustermy_workflowplotInputsrun -->\n",
       "<g id=\"node10\" class=\"node\">\n",
       "<title>clustermy_workflowplotInputsrun</title>\n",
       "<polygon fill=\"#1f77b4\" stroke=\"#1f77b4\" points=\"470.87,-222.25 428.87,-222.25 428.87,-198.25 470.87,-198.25 482.87,-210.25 470.87,-222.25\"/>\n",
       "<text text-anchor=\"middle\" x=\"455.87\" y=\"-204.07\" font-family=\"Times,serif\" font-size=\"14.00\">run</text>\n",
       "</g>\n",
       "<!-- clustermy_workflowplotOutputsran -->\n",
       "<g id=\"node13\" class=\"node\">\n",
       "<title>clustermy_workflowplotOutputsran</title>\n",
       "<polygon fill=\"#1f77b4\" stroke=\"#1f77b4\" points=\"574.58,-215.25 532.58,-215.25 532.58,-191.25 574.58,-191.25 586.58,-203.25 574.58,-215.25\"/>\n",
       "<text text-anchor=\"middle\" x=\"559.58\" y=\"-197.07\" font-family=\"Times,serif\" font-size=\"14.00\">ran</text>\n",
       "</g>\n",
       "<!-- clustermy_workflowplotInputsrun&#45;&gt;clustermy_workflowplotOutputsran -->\n",
       "<!-- clustermy_workflowplotOutputsfig -->\n",
       "<g id=\"node14\" class=\"node\">\n",
       "<title>clustermy_workflowplotOutputsfig</title>\n",
       "<ellipse fill=\"#ff7f0e\" stroke=\"#ff7f0e\" cx=\"559.58\" cy=\"-149.25\" rx=\"27\" ry=\"18\"/>\n",
       "<text text-anchor=\"middle\" x=\"559.58\" y=\"-143.07\" font-family=\"Times,serif\" font-size=\"14.00\">fig</text>\n",
       "</g>\n",
       "<!-- clustermy_workflowplotOutputsfig&#45;&gt;clustermy_workflowOutputsplot__fig -->\n",
       "<g id=\"edge7\" class=\"edge\">\n",
       "<title>clustermy_workflowplotOutputsfig&#45;&gt;clustermy_workflowOutputsplot__fig</title>\n",
       "<path fill=\"none\" stroke=\"#ff7f0e\" d=\"M586.62,-145.94C590.66,-145.42 594.98,-144.87 599.42,-144.31\"/>\n",
       "<path fill=\"none\" stroke=\"#ff7f0e\" d=\"M599.42,-144.31C603.87,-143.74 608.45,-143.16 613.01,-142.58\"/>\n",
       "<polygon fill=\"#ff7f0e\" stroke=\"#ff7f0e\" points=\"613.15,-145.96 622.63,-141.23 612.27,-139.02 613.15,-145.96\"/>\n",
       "</g>\n",
       "</g>\n",
       "</svg>\n"
      ],
      "text/plain": [
       "<graphviz.graphs.Digraph at 0x14dc61990>"
      ]
     },
     "execution_count": 7,
     "metadata": {},
     "output_type": "execute_result"
    }
   ],
   "source": [
    "import numpy as np\n",
    "\n",
    "wf = Workflow(\"my_workflow\")\n",
    "\n",
    "@Workflow.wrap_as.function_node([\"x\", \"x_sq\"])\n",
    "def square_range(x: int) -> tuple[np.ndarray, np.ndarray]:\n",
    "    x = np.arange(x)\n",
    "    return x, (x**2)\n",
    "\n",
    "wf.register(\"plotting\", \"pyiron_workflow.node_library.plotting\")\n",
    "\n",
    "wf.arrays = square_range()\n",
    "wf.plot = wf.create.plotting.Scatter(\n",
    "    x=wf.arrays.outputs.x,\n",
    "    y=wf.arrays.outputs.x_sq\n",
    ")\n",
    "\n",
    "wf.draw()"
   ]
  },
  {
   "cell_type": "markdown",
   "id": "ffc897e4-0f12-4231-8ebe-82862c890de5",
   "metadata": {},
   "source": [
    "We can see that the workflow automatically exposes unconnected IO of its children and gives them a name based on the child node's name and that node's IO name.\n",
    "\n",
    "Let's run our workflow and look at the result:"
   ]
  },
  {
   "cell_type": "code",
   "execution_count": 8,
   "id": "c499c0ed-7af5-491a-b340-2d2f4f48529c",
   "metadata": {},
   "outputs": [
    {
     "data": {
      "text/plain": [
       "<matplotlib.collections.PathCollection at 0x14e34ddd0>"
      ]
     },
     "execution_count": 8,
     "metadata": {},
     "output_type": "execute_result"
    },
    {
     "data": {
      "image/png": "[encoded data removed]",
      "text/plain": [
       "<Figure size 640x480 with 1 Axes>"
      ]
     },
     "metadata": {},
     "output_type": "display_data"
    }
   ],
   "source": [
    "out = wf(arrays__x=5)\n",
    "out.plot__fig"
   ]
  },
  {
   "cell_type": "markdown",
   "id": "f69983f7-c110-4ea1-8da1-009b7c5410af",
   "metadata": {},
   "source": [
    "Unless it's turned off, `pyiron_workflow` will make sure that all new nodes and connections obey type hints (where provided). For instance, if we try to pass a non-int to our `square_range` node, we'll get an error:"
   ]
  },
  {
   "cell_type": "code",
   "execution_count": 9,
   "id": "04a19675-c98d-4255-8583-a567cda45e08",
   "metadata": {},
   "outputs": [
    {
     "name": "stdout",
     "output_type": "stream",
     "text": [
      "The channel x cannot take the value `5.5` because it is not compliant with the type hint <class 'int'>\n"
     ]
    }
   ],
   "source": [
    "try:\n",
    "    wf.arrays.inputs.x = 5.5\n",
    "except TypeError as e:\n",
    "    message = e.args[0]\n",
    "    print(message)"
   ]
  },
  {
   "cell_type": "markdown",
   "id": "be52f21f-2aa3-4182-88a5-815f2153a703",
   "metadata": {},
   "source": [
    "## Composing complex workflows from macros\n",
    "\n",
    "There's just one last step: once we have a workflow we're happy with, we can package it as a \"macro\"! This lets us make more and more complex workflows by composing sub-graphs.\n",
    "\n",
    "We don't yet have an automated tool for converting workflows into macros, but we can create them by decorating a function that takes a macro instance and builds its graph, so we can just copy-and-paste our workflow above into a decorated function! While we're here, we'll take advantage of the option to define \"maps\" to give our IO prettier names (this is also available for workflows, we just didn't bother)"
   ]
  },
  {
   "cell_type": "code",
   "execution_count": 10,
   "id": "f67312c0-7028-4569-8b3a-d9e2fe88df48",
   "metadata": {},
   "outputs": [],
   "source": [
    "@Workflow.wrap_as.macro_node()\n",
    "def my_square_plot(macro):\n",
    "    macro.arrays = square_range()\n",
    "    macro.plot = macro.create.plotting.Scatter(\n",
    "        x=macro.arrays.outputs.x,\n",
    "        y=macro.arrays.outputs.x_sq\n",
    "    )\n",
    "    macro.inputs_map = {\"arrays__x\": \"n\"}\n",
    "    macro.outputs_map = {\n",
    "        \"arrays__x\": \"x\",\n",
    "        \"arrays__x_sq\": \"y\",\n",
    "        \"plot__fig\": \"fig\"\n",
    "    }\n",
    "    # Note that we also forced regularly hidden IO to be exposed!\n",
    "    # We can also hide IO that's usually exposed by mapping to `None`"
   ]
  },
  {
   "cell_type": "code",
   "execution_count": 11,
   "id": "b43f7a86-4579-4476-89a9-9d7c5942c3fb",
   "metadata": {},
   "outputs": [
    {
     "data": {
      "text/plain": [
       "{'square_plot__fig': <matplotlib.collections.PathCollection at 0x14e4c8a50>,\n",
       " 'shifted_square_plot__fig': <matplotlib.collections.PathCollection at 0x14e4e6650>}"
      ]
     },
     "execution_count": 11,
     "metadata": {},
     "output_type": "execute_result"
    },
    {
     "data": {
      "image/png": "[encoded data removed]",
      "text/plain": [
       "<Figure size 640x480 with 1 Axes>"
      ]
     },
     "metadata": {},
     "output_type": "display_data"
    }
   ],
   "source": [
    "wf2 = Workflow(\"my_composed_workflow\")\n",
    "\n",
    "wf2.square_plot = my_square_plot(n=10)\n",
    "wf2.shift = add_one(wf2.square_plot.outputs.x)\n",
    "wf2.shifted_square_plot = wf2.create.plotting.Scatter(\n",
    "    x=wf2.shift,\n",
    "    y=wf2.square_plot.outputs.y,\n",
    ")\n",
    "wf2()"
   ]
  },
  {
   "cell_type": "markdown",
   "id": "3b30dbca-3d89-44df-b47a-951aedcb939d",
   "metadata": {},
   "source": [
    "## What else?\n",
    "\n",
    "To learn more, take a look at the `deepdive.ipynb` notebook, and/or start looking through the class docstrings. Here's a brief map of what you're still missing:\n",
    "\n",
    "### Features that are currently available but in alpha stage\n",
    "- Distributing node execution onto remote processes\n",
    "  - Single core parallel python processes is available by setting the `.executor = True`\n",
    "- Acyclic graphs\n",
    "  - Execution for graphs whose data flow topology is a DAG happens automatically, but you're always free to specify this manually with `Signals`, and indeed _must_ specify the execution flow manually for cyclic graphs -- but cyclic graphs _are_ possible!\n",
    "- Complex flow nodes\n",
    "  - If, While, and For nodes are all available for more complex flow control\n",
    "- A node library for atomistic simulations with Lammps\n",
    "  \n",
    "### Features coming shortly\n",
    "- Storing workflow results and restarting partially executed workflows\n",
    "- More and richer node packages\n",
    "\n",
    "### Features planned\n",
    "- \"FAIR\" principles for node packages and package registration\n",
    "- Ontological typing and guided workflow design (see our `ironflow` project for a working prototype)"
   ]
  },
  {
   "cell_type": "code",
   "execution_count": null,
   "id": "cf7a44a7-cf8e-4077-9683-909d89f5a5ef",
   "metadata": {},
   "outputs": [],
   "source": []
  }
 ],
 "metadata": {
  "kernelspec": {
   "display_name": "Python 3 (ipykernel)",
   "language": "python",
   "name": "python3"
  },
  "language_info": {
   "codemirror_mode": {
    "name": "ipython",
    "version": 3
   },
   "file_extension": ".py",
   "mimetype": "text/x-python",
   "name": "python",
   "nbconvert_exporter": "python",
   "pygments_lexer": "ipython3",
   "version": "3.11.4"
  }
 },
 "nbformat": 4,
 "nbformat_minor": 5
}
